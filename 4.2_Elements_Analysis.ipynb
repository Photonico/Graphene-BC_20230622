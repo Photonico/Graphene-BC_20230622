{
 "cells": [
  {
   "cell_type": "markdown",
   "metadata": {},
   "source": [
    "# Elements analysis"
   ]
  },
  {
   "cell_type": "code",
   "execution_count": 1,
   "metadata": {},
   "outputs": [],
   "source": [
    "# Prework\n",
    "\n",
    "from vmatplot.commons import get_elements\n"
   ]
  },
  {
   "cell_type": "code",
   "execution_count": 2,
   "metadata": {},
   "outputs": [
    {
     "name": "stdout",
     "output_type": "stream",
     "text": [
      "The element analysis for Graphene-BC₃ (Hollow) with PBE is \n",
      " {'B': (1, 2), 'C': (3, 16)} \n",
      "\n",
      "The element analysis for Graphene-BC₃(Hollow) with HSE06 is \n",
      " {'B': (1, 2), 'C': (3, 16)} \n",
      "\n"
     ]
    }
   ],
   "source": [
    "# Graphene-BC₃ (Hollow) \n",
    "\n",
    "directory_PBE = \"4_PDoS/E_Graphene-BC3_PBE\"\n",
    "res = get_elements(directory_PBE)\n",
    "print(f\"The element analysis for Graphene-BC₃ (Hollow) with PBE is \\n {res} \\n\")\n",
    "\n",
    "directory_HSE06 = \"4_PDoS/E_Graphene-BC3_HSE\"\n",
    "res =  get_elements(directory_HSE06)\n",
    "print(f\"The element analysis for Graphene-BC₃(Hollow) with HSE06 is \\n {res} \\n\")\n"
   ]
  },
  {
   "cell_type": "code",
   "execution_count": 3,
   "metadata": {},
   "outputs": [
    {
     "name": "stdout",
     "output_type": "stream",
     "text": [
      "The element analysis for Graphene-Borophene (Top) with PBE is \n",
      " {'B': (1, 8), 'C': (9, 16)} \n",
      "\n",
      "The element analysis for Graphene-Borophene (Top) with HSE06 is \n",
      " {'B': (1, 8), 'C': (9, 16)} \n",
      "\n"
     ]
    }
   ],
   "source": [
    "# Graphene-Borophene (Top)\n",
    "\n",
    "directory_PBE = \"4_PDoS/F_Graphene-Borophene_PBE\"\n",
    "res = get_elements(directory_PBE)\n",
    "print(f\"The element analysis for Graphene-Borophene (Top) with PBE is \\n {res} \\n\")\n",
    "\n",
    "directory_HSE06 = \"4_PDoS/F_Graphene-Borophene_HSE\"\n",
    "res =  get_elements(directory_HSE06)\n",
    "print(f\"The element analysis for Graphene-Borophene (Top) with HSE06 is \\n {res} \\n\")\n"
   ]
  },
  {
   "cell_type": "code",
   "execution_count": 4,
   "metadata": {},
   "outputs": [
    {
     "name": "stdout",
     "output_type": "stream",
     "text": [
      "The element analysis for Graphene-B₄C₃ (Top) with PBE is \n",
      " {'B': (1, 4), 'C': (5, 15)} \n",
      "\n",
      "The element analysis for Graphene-B₄C₃ (Top) with HSE06 is \n",
      " {'B': (1, 4), 'C': (5, 15)} \n",
      "\n"
     ]
    }
   ],
   "source": [
    "# Graphene-B₄C₃ (Top)\n",
    "\n",
    "directory_PBE = \"4_PDoS/G_Graphene-B4C3_PBE_K33\"\n",
    "res = get_elements(directory_PBE)\n",
    "print(f\"The element analysis for Graphene-B₄C₃ (Top) with PBE is \\n {res} \\n\")\n",
    "\n",
    "directory_HSE06 = \"4_PDoS/G_Graphene-B4C3_HSE\"\n",
    "res =  get_elements(directory_HSE06)\n",
    "print(f\"The element analysis for Graphene-B₄C₃ (Top) with HSE06 is \\n {res} \\n\")\n"
   ]
  }
 ],
 "metadata": {
  "kernelspec": {
   "display_name": "Python 3",
   "language": "python",
   "name": "python3"
  },
  "language_info": {
   "codemirror_mode": {
    "name": "ipython",
    "version": 3
   },
   "file_extension": ".py",
   "mimetype": "text/x-python",
   "name": "python",
   "nbconvert_exporter": "python",
   "pygments_lexer": "ipython3",
   "version": "3.11.9"
  }
 },
 "nbformat": 4,
 "nbformat_minor": 2
}
