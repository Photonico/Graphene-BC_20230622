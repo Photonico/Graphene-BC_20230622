{
 "cells": [
  {
   "cell_type": "markdown",
   "metadata": {},
   "source": [
    "# Bandgap\n"
   ]
  },
  {
   "cell_type": "code",
   "execution_count": 1,
   "metadata": {},
   "outputs": [],
   "source": [
    "# Prework\n",
    "\n",
    "from vmatplot.bandgap import *\n"
   ]
  },
  {
   "cell_type": "code",
   "execution_count": 2,
   "metadata": {},
   "outputs": [
    {
     "name": "stdout",
     "output_type": "stream",
     "text": [
      "BC₃ (PBE)\n",
      "0.6340999999999997 -3.7918 -3.1577\n",
      "0.6340999999999997 -3.7918 -3.1577\n",
      "\n",
      "\n",
      "BC₃ (HSE)\n",
      "1.8217999999999996 -4.7379 -2.9161\n",
      "1.8217999999999996 -4.7379 -2.9161\n"
     ]
    }
   ],
   "source": [
    "# Monolayer: BC₃\n",
    "\n",
    "print(\"BC₃ (PBE)\")\n",
    "directory_path = \"3_Bandstructure/A_BC3_PBE\"\n",
    "band_gap, homo, lumo = extract_bandgap_ref(directory_path)\n",
    "print(band_gap, homo, lumo)\n",
    "band_gap, homo, lumo = extract_bandgap_vasprun(directory_path)\n",
    "print(band_gap, homo, lumo)\n",
    "\n",
    "print(\"\\n\")\n",
    "print(\"BC₃ (HSE)\")\n",
    "directory_path = \"3_Bandstructure/A_BC3_HSE\"\n",
    "band_gap, homo, lumo = extract_bandgap_ref(directory_path)\n",
    "print(band_gap, homo, lumo)\n",
    "band_gap, homo, lumo = extract_bandgap_vasprun(directory_path)\n",
    "print(band_gap, homo, lumo)\n"
   ]
  },
  {
   "cell_type": "code",
   "execution_count": 3,
   "metadata": {},
   "outputs": [
    {
     "name": "stdout",
     "output_type": "stream",
     "text": [
      "Borophene (PBE)\n",
      "0.0 None None\n",
      "0.0042999999999997485 -2.1834 -2.1791\n",
      "\n",
      "\n",
      "Borophene (HSE)\n",
      "0.0 None None\n",
      "0.008599999999999941 -2.1502 -2.1416\n"
     ]
    }
   ],
   "source": [
    "# Monolayer: Borophene\n",
    "\n",
    "print(\"Borophene (PBE)\")\n",
    "directory_path = \"3_Bandstructure/B_Borophene_PBE\"\n",
    "band_gap, homo, lumo = extract_bandgap_ref(directory_path)\n",
    "print(band_gap, homo, lumo)\n",
    "band_gap, homo, lumo = extract_bandgap_vasprun(directory_path)\n",
    "print(band_gap, homo, lumo)\n",
    "\n",
    "print(\"\\n\")\n",
    "print(\"Borophene (HSE)\")\n",
    "directory_path = \"3_Bandstructure/B_Borophene_HSE\"\n",
    "band_gap, homo, lumo = extract_bandgap_ref(directory_path)\n",
    "print(band_gap, homo, lumo)\n",
    "band_gap, homo, lumo = extract_bandgap_vasprun(directory_path)\n",
    "print(band_gap, homo, lumo)\n"
   ]
  },
  {
   "cell_type": "code",
   "execution_count": 4,
   "metadata": {},
   "outputs": [
    {
     "name": "stdout",
     "output_type": "stream",
     "text": [
      "B₄C₃ (PBE)\n",
      "1.6465 -2.8559 -1.2094\n",
      "1.6465 -2.8559 -1.2094\n",
      "\n",
      "\n",
      "B₄C₃ (HSE)\n",
      "2.3811 -3.2668 -0.8857\n",
      "2.3811 -3.2668 -0.8857\n"
     ]
    }
   ],
   "source": [
    "# Monolayer: B₄C₃\n",
    "\n",
    "print(\"B₄C₃ (PBE)\")\n",
    "directory_path = \"3_Bandstructure/C_B4C3_PBE\"\n",
    "band_gap, homo, lumo = extract_bandgap_ref(directory_path)\n",
    "print(band_gap, homo, lumo)\n",
    "band_gap, homo, lumo = extract_bandgap_vasprun(directory_path)\n",
    "print(band_gap, homo, lumo)\n",
    "\n",
    "print(\"\\n\")\n",
    "print(\"B₄C₃ (HSE)\")\n",
    "directory_path = \"3_Bandstructure/C_B4C3_HSE\"\n",
    "band_gap, homo, lumo = extract_bandgap_ref(directory_path)\n",
    "print(band_gap, homo, lumo)\n",
    "band_gap, homo, lumo = extract_bandgap_vasprun(directory_path)\n",
    "print(band_gap, homo, lumo)\n"
   ]
  },
  {
   "cell_type": "code",
   "execution_count": 5,
   "metadata": {},
   "outputs": [
    {
     "name": "stdout",
     "output_type": "stream",
     "text": [
      "Graphene (PBE)\n",
      "0.01849999999999996 -2.2624 -2.2439\n",
      "0.01849999999999996 -2.2624 -2.2439\n",
      "\n",
      "\n",
      "Graphene (HSE)\n",
      "0.02259999999999973 -2.3387 -2.3161\n",
      "0.011699999999999822 -2.3278 -2.3161\n"
     ]
    }
   ],
   "source": [
    "# Monolayer: Graphene\n",
    "\n",
    "print(\"Graphene (PBE)\")\n",
    "directory_path = \"3_Bandstructure/D_Graphene_PBE\"\n",
    "band_gap, homo, lumo = extract_bandgap_ref(directory_path)\n",
    "print(band_gap, homo, lumo)\n",
    "band_gap, homo, lumo = extract_bandgap_vasprun(directory_path)\n",
    "print(band_gap, homo, lumo)\n",
    "\n",
    "print(\"\\n\")\n",
    "print(\"Graphene (HSE)\")\n",
    "directory_path = \"3_Bandstructure/D_Graphene_HSE\"\n",
    "band_gap, homo, lumo = extract_bandgap_ref(directory_path)\n",
    "print(band_gap, homo, lumo)\n",
    "band_gap, homo, lumo = extract_bandgap_vasprun(directory_path)\n",
    "print(band_gap, homo, lumo)"
   ]
  },
  {
   "cell_type": "code",
   "execution_count": 6,
   "metadata": {},
   "outputs": [
    {
     "name": "stdout",
     "output_type": "stream",
     "text": [
      "Graphene-BC₃ (PBE)\n",
      "0.0 None None\n",
      "0.016700000000000048 -0.9958 -0.9791\n",
      "\n",
      "\n",
      "Graphene-BC₃ (HSE)\n",
      "0.0 None None\n",
      "0.05989999999999995 -0.9691 -0.9092\n"
     ]
    }
   ],
   "source": [
    "#### Bilayers: Graphene-BC₃\n",
    "\n",
    "print(\"Graphene-BC₃ (PBE)\")\n",
    "directory_path = \"3_Bandstructure/E_Graphene-BC3_hollow_PBE\"\n",
    "band_gap, homo, lumo = extract_bandgap_ref(directory_path)\n",
    "print(band_gap, homo, lumo)\n",
    "band_gap, homo, lumo = extract_bandgap_vasprun(directory_path)\n",
    "print(band_gap, homo, lumo)\n",
    "\n",
    "print(\"\\n\")\n",
    "print(\"Graphene-BC₃ (HSE)\")\n",
    "directory_path = \"3_Bandstructure/E_Graphene-BC3_hollow_HSE\"\n",
    "band_gap, homo, lumo = extract_bandgap_ref(directory_path)\n",
    "print(band_gap, homo, lumo)\n",
    "band_gap, homo, lumo = extract_bandgap_vasprun(directory_path)\n",
    "print(band_gap, homo, lumo)\n"
   ]
  },
  {
   "cell_type": "code",
   "execution_count": 7,
   "metadata": {},
   "outputs": [
    {
     "name": "stdout",
     "output_type": "stream",
     "text": [
      "Graphene-Borophene (PBE)\n",
      "0.0 None None\n",
      "0.009599999999999997 -0.3079 -0.2983\n",
      "\n",
      "\n",
      "Graphene-Borophene (HSE)\n",
      "0.0 None None\n",
      "0.08540000000000003 -0.4111 -0.3257\n"
     ]
    }
   ],
   "source": [
    "#### Bilayers: Graphene-Borophene\n",
    "\n",
    "print(\"Graphene-Borophene (PBE)\")\n",
    "directory_path = \"3_Bandstructure/F_Graphene-Borophene_top__PBE\"\n",
    "band_gap, homo, lumo = extract_bandgap_ref(directory_path)\n",
    "print(band_gap, homo, lumo)\n",
    "band_gap, homo, lumo = extract_bandgap_vasprun(directory_path)\n",
    "print(band_gap, homo, lumo)\n",
    "\n",
    "print(\"\\n\")\n",
    "print(\"Graphene-Borophene (HSE)\")\n",
    "directory_path = \"3_Bandstructure/F_Graphene-Borophene_top__HSE\"\n",
    "band_gap, homo, lumo = extract_bandgap_ref(directory_path)\n",
    "print(band_gap, homo, lumo)\n",
    "band_gap, homo, lumo = extract_bandgap_vasprun(directory_path)\n",
    "print(band_gap, homo, lumo)\n"
   ]
  },
  {
   "cell_type": "code",
   "execution_count": 8,
   "metadata": {},
   "outputs": [
    {
     "name": "stdout",
     "output_type": "stream",
     "text": [
      "Graphene-B₄C₃ (PBE)\n",
      "0.016699999999999993 -0.3313 -0.3146\n",
      "0.016699999999999993 -0.3313 -0.3146\n",
      "\n",
      "\n",
      "Graphene-B₄C₃ (HSE)\n",
      "0.02150000000000002 -0.3884 -0.3669\n",
      "0.02150000000000002 -0.3884 -0.3669\n"
     ]
    }
   ],
   "source": [
    "#### Bilayers: Graphene-B₄C₃\n",
    "\n",
    "print(\"Graphene-B₄C₃ (PBE)\")\n",
    "directory_path = \"3_Bandstructure/G_Graphene-B4C3_top_PBE\"\n",
    "band_gap, homo, lumo = extract_bandgap_ref(directory_path)\n",
    "print(band_gap, homo, lumo)\n",
    "band_gap, homo, lumo = extract_bandgap_vasprun(directory_path)\n",
    "print(band_gap, homo, lumo)\n",
    "\n",
    "print(\"\\n\")\n",
    "print(\"Graphene-B₄C₃ (HSE)\")\n",
    "directory_path = \"3_Bandstructure/G_Graphene-B4C3_top_HSE\"\n",
    "band_gap, homo, lumo = extract_bandgap_ref(directory_path)\n",
    "print(band_gap, homo, lumo)\n",
    "band_gap, homo, lumo = extract_bandgap_vasprun(directory_path)\n",
    "print(band_gap, homo, lumo)\n"
   ]
  }
 ],
 "metadata": {
  "kernelspec": {
   "display_name": "Python 3",
   "language": "python",
   "name": "python3"
  },
  "language_info": {
   "codemirror_mode": {
    "name": "ipython",
    "version": 3
   },
   "file_extension": ".py",
   "mimetype": "text/x-python",
   "name": "python",
   "nbconvert_exporter": "python",
   "pygments_lexer": "ipython3",
   "version": "3.11.9"
  }
 },
 "nbformat": 4,
 "nbformat_minor": 2
}
