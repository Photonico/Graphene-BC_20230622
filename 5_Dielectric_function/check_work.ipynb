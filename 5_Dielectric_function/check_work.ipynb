{
 "cells": [
  {
   "cell_type": "markdown",
   "metadata": {},
   "source": [
    "# Check vasprun"
   ]
  },
  {
   "cell_type": "code",
   "execution_count": null,
   "metadata": {},
   "outputs": [],
   "source": [
    "import os\n",
    "\n",
    "def vasprun_directory(directory=\".\"):\n",
    "    \"\"\"Find folders with complete vasprun.xml and print incomplete ones.\"\"\"\n",
    "    complete_folders = []\n",
    "\n",
    "    for dirpath, _, filenames in os.walk(directory):\n",
    "        if \"vasprun.xml\" in filenames:\n",
    "            file_name_xml = os.path.join(dirpath, \"vasprun.xml\")\n",
    "\n",
    "            # Check if vasprun.xml is complete\n",
    "            try:\n",
    "                with open(file_name_xml, \"r\", encoding=\"utf-8\") as f:\n",
    "                    # Check the last few lines for the closing tag\n",
    "                    last_lines = f.readlines()[-10:]  # read the last 10 lines\n",
    "                    for line in last_lines:\n",
    "                        if \"</modeling>\" in line or \"</vasp>\" in line:\n",
    "                            complete_folders.append(dirpath)\n",
    "                            break\n",
    "                    else:\n",
    "                        print(f\"vasprun.xml in {dirpath} is incomplete.\")\n",
    "            except IOError as e:\n",
    "                print(f\"Error reading {file_name_xml}: {e}\")\n",
    "\n",
    "    return complete_folders\n",
    "\n",
    "# vasprun_directory(\"4_PDoS_PBE\")\n"
   ]
  }
 ],
 "metadata": {
  "kernelspec": {
   "display_name": "Python 3",
   "language": "python",
   "name": "python3"
  }
 },
 "nbformat": 4,
 "nbformat_minor": 2
}
