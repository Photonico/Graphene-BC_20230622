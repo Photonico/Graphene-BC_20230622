{
 "cells": [
  {
   "cell_type": "markdown",
   "metadata": {},
   "source": [
    "# Linear optical properties\n",
    "\n",
    "This note is used for checking linear optical properties\n",
    "\n",
    "## Linear Optical Properties\n",
    "\n",
    "* absorption coefficient\n",
    "\n",
    "$$ \\alpha(\\omega)=\\frac{\\sqrt{2}\\omega}{c}\\left\\{\\left[\\varepsilon_R^2(\\omega)+\\varepsilon_I^2(\\omega)\\right]^{\\frac{1}{2}}-\\varepsilon_R(\\omega)\\right\\}^{\\frac{1}{2}} $$\n",
    "\n",
    "* refractive index\n",
    "\n",
    "$$ n(\\omega)=\\frac{1}{\\sqrt{2}}\\left\\{\\left[\\varepsilon_R^2(\\omega)+\\varepsilon_I^2(\\omega)\\right]^{\\frac{1}{2}}+\\varepsilon_R(\\omega)\\right\\}^{\\frac{1}{2}} $$\n",
    "\n",
    "* extinction coefficient\n",
    "\n",
    "$$ k(\\omega)=\\frac{1}{\\sqrt{2}}\\left\\{\\left[\\varepsilon_R^2(\\omega)+\\varepsilon_I^2(\\omega)\\right]^{\\frac{1}{2}}-\\varepsilon_R(\\omega)\\right\\}^{\\frac{1}{2}} $$\n",
    "\n",
    "* reflectivity\n",
    "\n",
    "$$ n(\\omega)=\\frac{1}{\\sqrt{2}}\\left\\{\\left[\\varepsilon_R^2(\\omega)+\\varepsilon_I^2(\\omega)\\right]^{\\frac{1}{2}}+\\varepsilon_R(\\omega)\\right\\}^{\\frac{1}{2}} $$\n",
    "\n",
    "* energy loss spectrum\n",
    "\n",
    "$$ L(\\omega) = \\frac{\\varepsilon_I(\\omega)}{\\varepsilon^2_R(\\omega)+\\varepsilon_I^2(\\omega)} $$\n",
    "\n",
    "where:\n",
    "\n",
    "$\\omega$ is the given frequency;\n",
    "\n",
    "$\\varepsilon_R$ is real part dielectric function;\n",
    "\n",
    "$\\varepsilon_I$ is real part dielectric function.\n",
    "\n",
    "References:\n",
    "\n",
    "    10.1039/C7RA10570C\n",
    "\n",
    "    vaspkit.com/tutorials.html#linear-optical-properties\n"
   ]
  }
 ],
 "metadata": {
  "language_info": {
   "name": "python"
  }
 },
 "nbformat": 4,
 "nbformat_minor": 2
}
